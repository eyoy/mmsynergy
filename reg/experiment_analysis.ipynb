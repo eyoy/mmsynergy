{
 "cells": [
  {
   "cell_type": "code",
   "execution_count": 15,
   "metadata": {},
   "outputs": [],
   "source": [
    "import pandas as pd\n",
    "import os\n",
    "import seaborn as sns\n",
    "import numpy as np"
   ]
  },
  {
   "cell_type": "code",
   "execution_count": 14,
   "metadata": {},
   "outputs": [
    {
     "name": "stdout",
     "output_type": "stream",
     "text": [
      "/opt/homebrew/Caskroom/miniforge/base/envs/pytorch_m1/bin/python: No module named pip\n",
      "Note: you may need to restart the kernel to use updated packages.\n"
     ]
    }
   ],
   "source": [
    "pip install seaborn"
   ]
  },
  {
   "cell_type": "markdown",
   "metadata": {},
   "source": [
    "### Experiment 1 Data Creation (Validity Testing)"
   ]
  },
  {
   "cell_type": "code",
   "execution_count": 31,
   "metadata": {},
   "outputs": [],
   "source": [
    "root_folder = '/Users/eryaouyang/Downloads/'\n",
    "df = pd.read_excel(root_folder + 'cleaned_20250211.xlsx')\n",
    "df = df[df.ac == 7] # Attention check\n",
    "df = df.reset_index(drop=True)\n",
    "df['p'] = df.index + 1\n",
    "df['group2'].replace(1, 'Mega', inplace = True)\n",
    "df['group2'].replace(-1, 'Nano', inplace = True)\n",
    "df['mc'].replace(1, 'Mega', inplace = True)\n",
    "df['mc'].replace(2, 'Nano', inplace = True)\n",
    "df = df[df.group2 == df.mc]\n",
    "#df = df[['group1', 'group2', 'like','comment','syn','watch','pi', 'p']]\n",
    "df[['like','comment']] = df[['like','comment']].fillna(0)\n",
    "df['comment_n'] = np.where(df['comment'] == 0, 0, 1)\n",
    "df['group1'].replace(-1, 'Low', inplace = True)\n",
    "df['group1'].replace(1, 'High', inplace = True)\n",
    "df = df[['group1', 'group2', 'like','comment','syn','watch','pi', 'p','comment_n']]"
   ]
  },
  {
   "cell_type": "code",
   "execution_count": 32,
   "metadata": {},
   "outputs": [
    {
     "data": {
      "text/html": [
       "<div>\n",
       "<style scoped>\n",
       "    .dataframe tbody tr th:only-of-type {\n",
       "        vertical-align: middle;\n",
       "    }\n",
       "\n",
       "    .dataframe tbody tr th {\n",
       "        vertical-align: top;\n",
       "    }\n",
       "\n",
       "    .dataframe thead th {\n",
       "        text-align: right;\n",
       "    }\n",
       "</style>\n",
       "<table border=\"1\" class=\"dataframe\">\n",
       "  <thead>\n",
       "    <tr style=\"text-align: right;\">\n",
       "      <th></th>\n",
       "      <th>group1</th>\n",
       "      <th>group2</th>\n",
       "      <th>like</th>\n",
       "      <th>comment</th>\n",
       "      <th>syn</th>\n",
       "      <th>watch</th>\n",
       "      <th>pi</th>\n",
       "      <th>p</th>\n",
       "      <th>comment_n</th>\n",
       "    </tr>\n",
       "  </thead>\n",
       "  <tbody>\n",
       "    <tr>\n",
       "      <th>0</th>\n",
       "      <td>High</td>\n",
       "      <td>Mega</td>\n",
       "      <td>1.0</td>\n",
       "      <td>0</td>\n",
       "      <td>3</td>\n",
       "      <td>1</td>\n",
       "      <td>1</td>\n",
       "      <td>1</td>\n",
       "      <td>0</td>\n",
       "    </tr>\n",
       "    <tr>\n",
       "      <th>1</th>\n",
       "      <td>High</td>\n",
       "      <td>Mega</td>\n",
       "      <td>0.0</td>\n",
       "      <td>0</td>\n",
       "      <td>3</td>\n",
       "      <td>2</td>\n",
       "      <td>1</td>\n",
       "      <td>2</td>\n",
       "      <td>0</td>\n",
       "    </tr>\n",
       "    <tr>\n",
       "      <th>2</th>\n",
       "      <td>High</td>\n",
       "      <td>Mega</td>\n",
       "      <td>1.0</td>\n",
       "      <td>It was entertaining.</td>\n",
       "      <td>5</td>\n",
       "      <td>6</td>\n",
       "      <td>3</td>\n",
       "      <td>3</td>\n",
       "      <td>1</td>\n",
       "    </tr>\n",
       "    <tr>\n",
       "      <th>3</th>\n",
       "      <td>High</td>\n",
       "      <td>Mega</td>\n",
       "      <td>0.0</td>\n",
       "      <td>0</td>\n",
       "      <td>6</td>\n",
       "      <td>2</td>\n",
       "      <td>1</td>\n",
       "      <td>4</td>\n",
       "      <td>0</td>\n",
       "    </tr>\n",
       "    <tr>\n",
       "      <th>4</th>\n",
       "      <td>High</td>\n",
       "      <td>Mega</td>\n",
       "      <td>0.0</td>\n",
       "      <td>0</td>\n",
       "      <td>4</td>\n",
       "      <td>2</td>\n",
       "      <td>2</td>\n",
       "      <td>5</td>\n",
       "      <td>0</td>\n",
       "    </tr>\n",
       "    <tr>\n",
       "      <th>...</th>\n",
       "      <td>...</td>\n",
       "      <td>...</td>\n",
       "      <td>...</td>\n",
       "      <td>...</td>\n",
       "      <td>...</td>\n",
       "      <td>...</td>\n",
       "      <td>...</td>\n",
       "      <td>...</td>\n",
       "      <td>...</td>\n",
       "    </tr>\n",
       "    <tr>\n",
       "      <th>194</th>\n",
       "      <td>Low</td>\n",
       "      <td>Nano</td>\n",
       "      <td>1.0</td>\n",
       "      <td>0</td>\n",
       "      <td>5</td>\n",
       "      <td>6</td>\n",
       "      <td>1</td>\n",
       "      <td>195</td>\n",
       "      <td>0</td>\n",
       "    </tr>\n",
       "    <tr>\n",
       "      <th>195</th>\n",
       "      <td>Low</td>\n",
       "      <td>Nano</td>\n",
       "      <td>1.0</td>\n",
       "      <td>Great dance moves!</td>\n",
       "      <td>7</td>\n",
       "      <td>6</td>\n",
       "      <td>1</td>\n",
       "      <td>196</td>\n",
       "      <td>1</td>\n",
       "    </tr>\n",
       "    <tr>\n",
       "      <th>196</th>\n",
       "      <td>Low</td>\n",
       "      <td>Nano</td>\n",
       "      <td>0.0</td>\n",
       "      <td>Dance steps didn't make since at all with the ...</td>\n",
       "      <td>2</td>\n",
       "      <td>1</td>\n",
       "      <td>1</td>\n",
       "      <td>197</td>\n",
       "      <td>1</td>\n",
       "    </tr>\n",
       "    <tr>\n",
       "      <th>197</th>\n",
       "      <td>Low</td>\n",
       "      <td>Nano</td>\n",
       "      <td>0.0</td>\n",
       "      <td>0</td>\n",
       "      <td>4</td>\n",
       "      <td>4</td>\n",
       "      <td>4</td>\n",
       "      <td>198</td>\n",
       "      <td>0</td>\n",
       "    </tr>\n",
       "    <tr>\n",
       "      <th>198</th>\n",
       "      <td>Low</td>\n",
       "      <td>Nano</td>\n",
       "      <td>0.0</td>\n",
       "      <td>0</td>\n",
       "      <td>6</td>\n",
       "      <td>1</td>\n",
       "      <td>1</td>\n",
       "      <td>199</td>\n",
       "      <td>0</td>\n",
       "    </tr>\n",
       "  </tbody>\n",
       "</table>\n",
       "<p>189 rows × 9 columns</p>\n",
       "</div>"
      ],
      "text/plain": [
       "    group1 group2  like                                            comment  \\\n",
       "0     High   Mega   1.0                                                  0   \n",
       "1     High   Mega   0.0                                                  0   \n",
       "2     High   Mega   1.0                              It was entertaining.    \n",
       "3     High   Mega   0.0                                                  0   \n",
       "4     High   Mega   0.0                                                  0   \n",
       "..     ...    ...   ...                                                ...   \n",
       "194    Low   Nano   1.0                                                  0   \n",
       "195    Low   Nano   1.0                                 Great dance moves!   \n",
       "196    Low   Nano   0.0  Dance steps didn't make since at all with the ...   \n",
       "197    Low   Nano   0.0                                                  0   \n",
       "198    Low   Nano   0.0                                                  0   \n",
       "\n",
       "     syn  watch  pi    p  comment_n  \n",
       "0      3      1   1    1          0  \n",
       "1      3      2   1    2          0  \n",
       "2      5      6   3    3          1  \n",
       "3      6      2   1    4          0  \n",
       "4      4      2   2    5          0  \n",
       "..   ...    ...  ..  ...        ...  \n",
       "194    5      6   1  195          0  \n",
       "195    7      6   1  196          1  \n",
       "196    2      1   1  197          1  \n",
       "197    4      4   4  198          0  \n",
       "198    6      1   1  199          0  \n",
       "\n",
       "[189 rows x 9 columns]"
      ]
     },
     "execution_count": 32,
     "metadata": {},
     "output_type": "execute_result"
    }
   ],
   "source": [
    "df"
   ]
  },
  {
   "cell_type": "code",
   "execution_count": 10,
   "metadata": {},
   "outputs": [
    {
     "data": {
      "text/plain": [
       "High    95\n",
       "Low     94\n",
       "Name: group1, dtype: int64"
      ]
     },
     "execution_count": 10,
     "metadata": {},
     "output_type": "execute_result"
    }
   ],
   "source": [
    "df.group1.value_counts()"
   ]
  },
  {
   "cell_type": "code",
   "execution_count": 7,
   "metadata": {},
   "outputs": [
    {
     "data": {
      "text/plain": [
       "1    96\n",
       "2    91\n",
       "4     1\n",
       "5     1\n",
       "Name: sex, dtype: int64"
      ]
     },
     "execution_count": 7,
     "metadata": {},
     "output_type": "execute_result"
    }
   ],
   "source": [
    "df.sex.value_counts()"
   ]
  },
  {
   "cell_type": "code",
   "execution_count": 9,
   "metadata": {},
   "outputs": [
    {
     "data": {
      "text/plain": [
       "0.48148148148148145"
      ]
     },
     "execution_count": 9,
     "metadata": {},
     "output_type": "execute_result"
    }
   ],
   "source": [
    "91/189"
   ]
  },
  {
   "cell_type": "code",
   "execution_count": 34,
   "metadata": {},
   "outputs": [
    {
     "data": {
      "text/plain": [
       "F_onewayResult(statistic=6.68446208653235, pvalue=0.010486775374835451)"
      ]
     },
     "execution_count": 34,
     "metadata": {},
     "output_type": "execute_result"
    }
   ],
   "source": [
    "from scipy.stats import f_oneway\n",
    "performance1 = df[df.group1 == 'High']['syn']\n",
    "performance2 = df[df.group1 == 'Low']['syn']\n",
    "f_oneway(performance1, performance2)"
   ]
  },
  {
   "cell_type": "code",
   "execution_count": 35,
   "metadata": {},
   "outputs": [
    {
     "data": {
      "text/plain": [
       "5.494736842105263"
      ]
     },
     "execution_count": 35,
     "metadata": {},
     "output_type": "execute_result"
    }
   ],
   "source": [
    "performance1.mean()"
   ]
  },
  {
   "cell_type": "code",
   "execution_count": 36,
   "metadata": {},
   "outputs": [
    {
     "data": {
      "text/plain": [
       "1.2621636624710213"
      ]
     },
     "execution_count": 36,
     "metadata": {},
     "output_type": "execute_result"
    }
   ],
   "source": [
    "performance1.std()"
   ]
  },
  {
   "cell_type": "code",
   "execution_count": 37,
   "metadata": {},
   "outputs": [
    {
     "data": {
      "text/plain": [
       "4.957446808510638"
      ]
     },
     "execution_count": 37,
     "metadata": {},
     "output_type": "execute_result"
    }
   ],
   "source": [
    "performance2.mean()"
   ]
  },
  {
   "cell_type": "code",
   "execution_count": 38,
   "metadata": {},
   "outputs": [
    {
     "data": {
      "text/plain": [
       "1.5788582618838012"
      ]
     },
     "execution_count": 38,
     "metadata": {},
     "output_type": "execute_result"
    }
   ],
   "source": [
    "performance2.std()"
   ]
  },
  {
   "cell_type": "code",
   "execution_count": 11,
   "metadata": {},
   "outputs": [
    {
     "data": {
      "text/plain": [
       "High    95\n",
       "Low     94\n",
       "Name: group1, dtype: int64"
      ]
     },
     "execution_count": 11,
     "metadata": {},
     "output_type": "execute_result"
    }
   ],
   "source": [
    "df.group1.value_counts()"
   ]
  },
  {
   "cell_type": "code",
   "execution_count": 19,
   "metadata": {},
   "outputs": [
    {
     "name": "stderr",
     "output_type": "stream",
     "text": [
      "/var/folders/4p/v25mr4bd4bx5tbp7pdrb0mf80000gn/T/ipykernel_89540/3919785139.py:3: FutureWarning: \n",
      "\n",
      "The `errwidth` parameter is deprecated. And will be removed in v0.15.0. Pass `err_kws={'linewidth': 2}` instead.\n",
      "\n",
      "  ax = sns.barplot(df, x=\"group1\", y=\"syn\", errorbar=\"se\", hue = 'group1', edgecolor = '0.2', lw = 2,\n"
     ]
    },
    {
     "data": {
      "text/plain": [
       "Text(0.5, 0, 'MM Synergy')"
      ]
     },
     "execution_count": 19,
     "metadata": {},
     "output_type": "execute_result"
    },
    {
     "data": {
      "image/png": "[encoded data removed]",
      "text/plain": [
       "<Figure size 216x288 with 1 Axes>"
      ]
     },
     "metadata": {
      "needs_background": "light"
     },
     "output_type": "display_data"
    }
   ],
   "source": [
    "from matplotlib import pyplot as plt\n",
    "fig, ax = plt.subplots(figsize=(3, 4))\n",
    "ax = sns.barplot(df, x=\"group1\", y=\"syn\", errorbar=\"se\", hue = 'group1', edgecolor = '0.2', lw = 2, \n",
    "                 capsize=0.1, errwidth=2, palette=['#041E42FF', '#8D9093FF'], width=0.5, legend = False)\n",
    "#ax.bar_label(ax.containers[0], fontsize=10);\n",
    "#prev_lim = ax.get_ylim()[1]\n",
    "max_val = df['syn'].max()\n",
    "plt.plot([0, 0, 1, 1], [max_val + 0.25, max_val + 0.5, max_val + 0.5, max_val + 0.25], lw=2, color='0.2', clip_on=False)\n",
    "plt.text(x = 0.5, y = max_val + 0.8, s = \"p = 0.01\", ha = 'center', va = 'center', fontsize=10, color='0.2', weight='bold')\n",
    "ax.spines['top'].set_visible(False)\n",
    "ax.spines['right'].set_visible(False)\n",
    "plt.ylim(top = max_val + 0.5)\n",
    "#plt.title('Perceived Music Motion Syncronization')\n",
    "plt.ylabel('Value')\n",
    "plt.xlabel('MM Synergy')"
   ]
  },
  {
   "cell_type": "code",
   "execution_count": 33,
   "metadata": {},
   "outputs": [],
   "source": [
    "df.to_csv(root_folder + 'final_experiment1.csv', index = False)"
   ]
  },
  {
   "cell_type": "markdown",
   "metadata": {},
   "source": [
    "## Experiment 2 (MM Synergy, Watch Intention, Purchase Intention, Likes_n)"
   ]
  },
  {
   "cell_type": "markdown",
   "metadata": {},
   "source": [
    "### Data Creation"
   ]
  },
  {
   "cell_type": "code",
   "execution_count": 19,
   "metadata": {},
   "outputs": [],
   "source": [
    "root_folder = '/Users/eryaouyang/Downloads/'\n",
    "df = pd.read_excel(root_folder + 'cleaned_20250205.xlsx')\n",
    "df.columns\n",
    "df = df[df.ac == 7] # Attention check\n",
    "df = df.reset_index(drop=True)\n",
    "df['p'] = df.index + 1"
   ]
  },
  {
   "cell_type": "code",
   "execution_count": 22,
   "metadata": {},
   "outputs": [
    {
     "name": "stderr",
     "output_type": "stream",
     "text": [
      "/var/folders/4p/v25mr4bd4bx5tbp7pdrb0mf80000gn/T/ipykernel_35685/4173185591.py:2: SettingWithCopyWarning: \n",
      "A value is trying to be set on a copy of a slice from a DataFrame.\n",
      "Try using .loc[row_indexer,col_indexer] = value instead\n",
      "\n",
      "See the caveats in the documentation: https://pandas.pydata.org/pandas-docs/stable/user_guide/indexing.html#returning-a-view-versus-a-copy\n",
      "  group1['pair'] = 1\n",
      "/var/folders/4p/v25mr4bd4bx5tbp7pdrb0mf80000gn/T/ipykernel_35685/4173185591.py:3: SettingWithCopyWarning: \n",
      "A value is trying to be set on a copy of a slice from a DataFrame\n",
      "\n",
      "See the caveats in the documentation: https://pandas.pydata.org/pandas-docs/stable/user_guide/indexing.html#returning-a-view-versus-a-copy\n",
      "  group1.rename(columns={'group1': 'group', 'v1_like':'like', 'v1_comment':'comment','v1_sy':'sy', 'v1_watch':'watch','v1_pi':'pi'}, inplace=True)\n",
      "/var/folders/4p/v25mr4bd4bx5tbp7pdrb0mf80000gn/T/ipykernel_35685/4173185591.py:5: SettingWithCopyWarning: \n",
      "A value is trying to be set on a copy of a slice from a DataFrame.\n",
      "Try using .loc[row_indexer,col_indexer] = value instead\n",
      "\n",
      "See the caveats in the documentation: https://pandas.pydata.org/pandas-docs/stable/user_guide/indexing.html#returning-a-view-versus-a-copy\n",
      "  group2['pair'] = 2\n",
      "/var/folders/4p/v25mr4bd4bx5tbp7pdrb0mf80000gn/T/ipykernel_35685/4173185591.py:6: SettingWithCopyWarning: \n",
      "A value is trying to be set on a copy of a slice from a DataFrame\n",
      "\n",
      "See the caveats in the documentation: https://pandas.pydata.org/pandas-docs/stable/user_guide/indexing.html#returning-a-view-versus-a-copy\n",
      "  group2.rename(columns={'group2': 'group', 'v2_like':'like', 'v2_comment':'comment','v2_sy':'sy', 'v2_watch':'watch','v2_pi':'pi'}, inplace=True)\n",
      "/var/folders/4p/v25mr4bd4bx5tbp7pdrb0mf80000gn/T/ipykernel_35685/4173185591.py:8: SettingWithCopyWarning: \n",
      "A value is trying to be set on a copy of a slice from a DataFrame.\n",
      "Try using .loc[row_indexer,col_indexer] = value instead\n",
      "\n",
      "See the caveats in the documentation: https://pandas.pydata.org/pandas-docs/stable/user_guide/indexing.html#returning-a-view-versus-a-copy\n",
      "  group3['pair'] = 3\n",
      "/var/folders/4p/v25mr4bd4bx5tbp7pdrb0mf80000gn/T/ipykernel_35685/4173185591.py:9: SettingWithCopyWarning: \n",
      "A value is trying to be set on a copy of a slice from a DataFrame\n",
      "\n",
      "See the caveats in the documentation: https://pandas.pydata.org/pandas-docs/stable/user_guide/indexing.html#returning-a-view-versus-a-copy\n",
      "  group3.rename(columns={'group3': 'group', 'v3_like':'like', 'v3_comment':'comment','v3_sy':'sy', 'v3_watch':'watch','v3_pi':'pi'}, inplace=True)\n",
      "/var/folders/4p/v25mr4bd4bx5tbp7pdrb0mf80000gn/T/ipykernel_35685/4173185591.py:11: SettingWithCopyWarning: \n",
      "A value is trying to be set on a copy of a slice from a DataFrame.\n",
      "Try using .loc[row_indexer,col_indexer] = value instead\n",
      "\n",
      "See the caveats in the documentation: https://pandas.pydata.org/pandas-docs/stable/user_guide/indexing.html#returning-a-view-versus-a-copy\n",
      "  group4['pair'] = 4\n",
      "/var/folders/4p/v25mr4bd4bx5tbp7pdrb0mf80000gn/T/ipykernel_35685/4173185591.py:12: SettingWithCopyWarning: \n",
      "A value is trying to be set on a copy of a slice from a DataFrame\n",
      "\n",
      "See the caveats in the documentation: https://pandas.pydata.org/pandas-docs/stable/user_guide/indexing.html#returning-a-view-versus-a-copy\n",
      "  group4.rename(columns={'group4': 'group', 'v4_like':'like', 'v4_comment':'comment','v4_sy':'sy', 'v4_watch':'watch','v4_pi':'pi'}, inplace=True)\n",
      "/var/folders/4p/v25mr4bd4bx5tbp7pdrb0mf80000gn/T/ipykernel_35685/4173185591.py:14: SettingWithCopyWarning: \n",
      "A value is trying to be set on a copy of a slice from a DataFrame.\n",
      "Try using .loc[row_indexer,col_indexer] = value instead\n",
      "\n",
      "See the caveats in the documentation: https://pandas.pydata.org/pandas-docs/stable/user_guide/indexing.html#returning-a-view-versus-a-copy\n",
      "  group5['pair'] = 5\n",
      "/var/folders/4p/v25mr4bd4bx5tbp7pdrb0mf80000gn/T/ipykernel_35685/4173185591.py:15: SettingWithCopyWarning: \n",
      "A value is trying to be set on a copy of a slice from a DataFrame\n",
      "\n",
      "See the caveats in the documentation: https://pandas.pydata.org/pandas-docs/stable/user_guide/indexing.html#returning-a-view-versus-a-copy\n",
      "  group5.rename(columns={'group5': 'group', 'v5_like':'like', 'v5_comment':'comment','v5_sy':'sy', 'v5_watch':'watch','v5_pi':'pi'}, inplace=True)\n"
     ]
    }
   ],
   "source": [
    "group1 = df[['group1', 'v1_like', 'v1_comment', 'v1_sy', 'v1_watch', 'v1_pi','p']]\n",
    "group1['pair'] = 1\n",
    "group1.rename(columns={'group1': 'group', 'v1_like':'like', 'v1_comment':'comment','v1_sy':'sy', 'v1_watch':'watch','v1_pi':'pi'}, inplace=True)\n",
    "group2 = df[['group2', 'v2_like', 'v2_comment', 'v2_sy', 'v2_watch', 'v2_pi','p']]\n",
    "group2['pair'] = 2\n",
    "group2.rename(columns={'group2': 'group', 'v2_like':'like', 'v2_comment':'comment','v2_sy':'sy', 'v2_watch':'watch','v2_pi':'pi'}, inplace=True)\n",
    "group3 = df[['group3', 'v3_like', 'v3_comment', 'v3_sy', 'v3_watch', 'v3_pi','p']]\n",
    "group3['pair'] = 3\n",
    "group3.rename(columns={'group3': 'group', 'v3_like':'like', 'v3_comment':'comment','v3_sy':'sy', 'v3_watch':'watch','v3_pi':'pi'}, inplace=True)\n",
    "group4 = df[['group4', 'v4_like', 'v4_comment', 'v4_sy', 'v4_watch', 'v4_pi','p']]\n",
    "group4['pair'] = 4\n",
    "group4.rename(columns={'group4': 'group', 'v4_like':'like', 'v4_comment':'comment','v4_sy':'sy', 'v4_watch':'watch','v4_pi':'pi'}, inplace=True)\n",
    "group5 = df[['group5', 'v5_like', 'v5_comment', 'v5_sy', 'v5_watch', 'v5_pi','p']]\n",
    "group5['pair'] = 5\n",
    "group5.rename(columns={'group5': 'group', 'v5_like':'like', 'v5_comment':'comment','v5_sy':'sy', 'v5_watch':'watch','v5_pi':'pi'}, inplace=True)"
   ]
  },
  {
   "cell_type": "code",
   "execution_count": 23,
   "metadata": {},
   "outputs": [],
   "source": [
    "final = pd.concat([group1, group2, group3, group4, group5], axis=0)\n",
    "final['group'].replace(-1, 'Low', inplace = True)\n",
    "final['group'].replace(1, 'High', inplace = True)\n",
    "final[['like','comment']] = final[['like','comment']].fillna(0)\n",
    "final['comment_n'] = np.where(final['comment'] == 0, 0, 1)"
   ]
  },
  {
   "cell_type": "code",
   "execution_count": 34,
   "metadata": {},
   "outputs": [],
   "source": [
    "final.to_csv(root_folder + 'final_experiment2.csv', index=False)"
   ]
  },
  {
   "cell_type": "markdown",
   "metadata": {},
   "source": [
    "### Data Visualization & Analysis"
   ]
  },
  {
   "cell_type": "code",
   "execution_count": 24,
   "metadata": {},
   "outputs": [
    {
     "data": {
      "text/plain": [
       "High    518\n",
       "Low     507\n",
       "Name: group, dtype: int64"
      ]
     },
     "execution_count": 24,
     "metadata": {},
     "output_type": "execute_result"
    }
   ],
   "source": [
    "final['group'].value_counts()"
   ]
  },
  {
   "cell_type": "code",
   "execution_count": 38,
   "metadata": {},
   "outputs": [
    {
     "data": {
      "text/plain": [
       "F_onewayResult(statistic=27.50521049371424, pvalue=1.9034989330736704e-07)"
      ]
     },
     "execution_count": 38,
     "metadata": {},
     "output_type": "execute_result"
    }
   ],
   "source": [
    "from scipy.stats import f_oneway\n",
    "performance1 = final[final.group == 'High']['pi']\n",
    "performance2 = final[final.group == 'Low']['pi']\n",
    "f_oneway(performance1, performance2)"
   ]
  },
  {
   "cell_type": "code",
   "execution_count": 39,
   "metadata": {},
   "outputs": [
    {
     "data": {
      "text/plain": [
       "2.5154440154440154"
      ]
     },
     "execution_count": 39,
     "metadata": {},
     "output_type": "execute_result"
    }
   ],
   "source": [
    "performance1.mean()"
   ]
  },
  {
   "cell_type": "code",
   "execution_count": 40,
   "metadata": {},
   "outputs": [
    {
     "data": {
      "text/plain": [
       "1.8614362125669017"
      ]
     },
     "execution_count": 40,
     "metadata": {},
     "output_type": "execute_result"
    }
   ],
   "source": [
    "performance1.std()"
   ]
  },
  {
   "cell_type": "code",
   "execution_count": 43,
   "metadata": {},
   "outputs": [
    {
     "data": {
      "text/plain": [
       "1.952662721893491"
      ]
     },
     "execution_count": 43,
     "metadata": {},
     "output_type": "execute_result"
    }
   ],
   "source": [
    "performance2.mean()"
   ]
  },
  {
   "cell_type": "code",
   "execution_count": 44,
   "metadata": {},
   "outputs": [
    {
     "data": {
      "text/plain": [
       "1.557123059993438"
      ]
     },
     "execution_count": 44,
     "metadata": {},
     "output_type": "execute_result"
    }
   ],
   "source": [
    "performance2.std()"
   ]
  },
  {
   "cell_type": "code",
   "execution_count": 15,
   "metadata": {},
   "outputs": [
    {
     "data": {
      "text/plain": [
       "Index(['Q_RecaptchaScore', 'bot', 't1', 't2', 'consent', 't3', 'group1', 't4',\n",
       "       'v1_like', 'v1_comment', 'v1_sy', 'v1_watch', 'v1_pi', 'group2', 't5',\n",
       "       'v2_like', 'v2_comment', 'v2_sy', 'v2_watch', 'v2_pi', 'group3', 't6',\n",
       "       'v3_like', 'v3_comment', 'v3_sy', 'v3_watch', 'v3_pi', 'group4', 't7',\n",
       "       'v4_like', 'v4_comment', 'v4_sy', 'v4_watch', 'v4_pi', 'group5', 't8',\n",
       "       'v5_like', 'v5_comment', 'v5_sy', 'v5_watch', 'v5_pi', 'ac', 'sex',\n",
       "       'age', 'comment'],\n",
       "      dtype='object')"
      ]
     },
     "execution_count": 15,
     "metadata": {},
     "output_type": "execute_result"
    }
   ],
   "source": [
    "df.columns"
   ]
  },
  {
   "cell_type": "code",
   "execution_count": 16,
   "metadata": {},
   "outputs": [
    {
     "data": {
      "text/html": [
       "<div>\n",
       "<style scoped>\n",
       "    .dataframe tbody tr th:only-of-type {\n",
       "        vertical-align: middle;\n",
       "    }\n",
       "\n",
       "    .dataframe tbody tr th {\n",
       "        vertical-align: top;\n",
       "    }\n",
       "\n",
       "    .dataframe thead th {\n",
       "        text-align: right;\n",
       "    }\n",
       "</style>\n",
       "<table border=\"1\" class=\"dataframe\">\n",
       "  <thead>\n",
       "    <tr style=\"text-align: right;\">\n",
       "      <th></th>\n",
       "      <th>Q_RecaptchaScore</th>\n",
       "      <th>bot</th>\n",
       "      <th>t1</th>\n",
       "      <th>t2</th>\n",
       "      <th>consent</th>\n",
       "      <th>t3</th>\n",
       "      <th>group1</th>\n",
       "      <th>t4</th>\n",
       "      <th>v1_like</th>\n",
       "      <th>v1_comment</th>\n",
       "      <th>...</th>\n",
       "      <th>t8</th>\n",
       "      <th>v5_like</th>\n",
       "      <th>v5_comment</th>\n",
       "      <th>v5_sy</th>\n",
       "      <th>v5_watch</th>\n",
       "      <th>v5_pi</th>\n",
       "      <th>ac</th>\n",
       "      <th>sex</th>\n",
       "      <th>age</th>\n",
       "      <th>comment</th>\n",
       "    </tr>\n",
       "  </thead>\n",
       "  <tbody>\n",
       "    <tr>\n",
       "      <th>3</th>\n",
       "      <td>1.0</td>\n",
       "      <td>1</td>\n",
       "      <td>5.202</td>\n",
       "      <td>5.711</td>\n",
       "      <td>1</td>\n",
       "      <td>12.230</td>\n",
       "      <td>-1</td>\n",
       "      <td>21.076</td>\n",
       "      <td>NaN</td>\n",
       "      <td>eh</td>\n",
       "      <td>...</td>\n",
       "      <td>20.591</td>\n",
       "      <td>NaN</td>\n",
       "      <td>NaN</td>\n",
       "      <td>4</td>\n",
       "      <td>4</td>\n",
       "      <td>1</td>\n",
       "      <td>7</td>\n",
       "      <td>2</td>\n",
       "      <td>33</td>\n",
       "      <td>NaN</td>\n",
       "    </tr>\n",
       "    <tr>\n",
       "      <th>4</th>\n",
       "      <td>1.0</td>\n",
       "      <td>1</td>\n",
       "      <td>6.694</td>\n",
       "      <td>14.945</td>\n",
       "      <td>1</td>\n",
       "      <td>11.567</td>\n",
       "      <td>-1</td>\n",
       "      <td>27.653</td>\n",
       "      <td>NaN</td>\n",
       "      <td>NaN</td>\n",
       "      <td>...</td>\n",
       "      <td>20.970</td>\n",
       "      <td>NaN</td>\n",
       "      <td>NaN</td>\n",
       "      <td>2</td>\n",
       "      <td>2</td>\n",
       "      <td>2</td>\n",
       "      <td>7</td>\n",
       "      <td>2</td>\n",
       "      <td>26</td>\n",
       "      <td>NaN</td>\n",
       "    </tr>\n",
       "    <tr>\n",
       "      <th>5</th>\n",
       "      <td>1.0</td>\n",
       "      <td>1</td>\n",
       "      <td>7.826</td>\n",
       "      <td>30.177</td>\n",
       "      <td>1</td>\n",
       "      <td>13.003</td>\n",
       "      <td>-1</td>\n",
       "      <td>23.895</td>\n",
       "      <td>NaN</td>\n",
       "      <td>NaN</td>\n",
       "      <td>...</td>\n",
       "      <td>21.279</td>\n",
       "      <td>NaN</td>\n",
       "      <td>NaN</td>\n",
       "      <td>4</td>\n",
       "      <td>3</td>\n",
       "      <td>2</td>\n",
       "      <td>7</td>\n",
       "      <td>1</td>\n",
       "      <td>24</td>\n",
       "      <td>NaN</td>\n",
       "    </tr>\n",
       "    <tr>\n",
       "      <th>6</th>\n",
       "      <td>1.0</td>\n",
       "      <td>1</td>\n",
       "      <td>68.348</td>\n",
       "      <td>35.267</td>\n",
       "      <td>1</td>\n",
       "      <td>11.120</td>\n",
       "      <td>-1</td>\n",
       "      <td>30.998</td>\n",
       "      <td>NaN</td>\n",
       "      <td>NaN</td>\n",
       "      <td>...</td>\n",
       "      <td>21.316</td>\n",
       "      <td>NaN</td>\n",
       "      <td>NaN</td>\n",
       "      <td>7</td>\n",
       "      <td>1</td>\n",
       "      <td>1</td>\n",
       "      <td>7</td>\n",
       "      <td>1</td>\n",
       "      <td>41</td>\n",
       "      <td>NaN</td>\n",
       "    </tr>\n",
       "    <tr>\n",
       "      <th>7</th>\n",
       "      <td>1.0</td>\n",
       "      <td>1</td>\n",
       "      <td>5.908</td>\n",
       "      <td>6.079</td>\n",
       "      <td>1</td>\n",
       "      <td>11.233</td>\n",
       "      <td>-1</td>\n",
       "      <td>28.372</td>\n",
       "      <td>NaN</td>\n",
       "      <td>NaN</td>\n",
       "      <td>...</td>\n",
       "      <td>21.401</td>\n",
       "      <td>1.0</td>\n",
       "      <td>NaN</td>\n",
       "      <td>4</td>\n",
       "      <td>4</td>\n",
       "      <td>4</td>\n",
       "      <td>7</td>\n",
       "      <td>2</td>\n",
       "      <td>66</td>\n",
       "      <td>NaN</td>\n",
       "    </tr>\n",
       "    <tr>\n",
       "      <th>...</th>\n",
       "      <td>...</td>\n",
       "      <td>...</td>\n",
       "      <td>...</td>\n",
       "      <td>...</td>\n",
       "      <td>...</td>\n",
       "      <td>...</td>\n",
       "      <td>...</td>\n",
       "      <td>...</td>\n",
       "      <td>...</td>\n",
       "      <td>...</td>\n",
       "      <td>...</td>\n",
       "      <td>...</td>\n",
       "      <td>...</td>\n",
       "      <td>...</td>\n",
       "      <td>...</td>\n",
       "      <td>...</td>\n",
       "      <td>...</td>\n",
       "      <td>...</td>\n",
       "      <td>...</td>\n",
       "      <td>...</td>\n",
       "      <td>...</td>\n",
       "    </tr>\n",
       "    <tr>\n",
       "      <th>203</th>\n",
       "      <td>1.0</td>\n",
       "      <td>1</td>\n",
       "      <td>12.948</td>\n",
       "      <td>6.535</td>\n",
       "      <td>1</td>\n",
       "      <td>68.655</td>\n",
       "      <td>-1</td>\n",
       "      <td>57.812</td>\n",
       "      <td>1.0</td>\n",
       "      <td>NaN</td>\n",
       "      <td>...</td>\n",
       "      <td>63.521</td>\n",
       "      <td>1.0</td>\n",
       "      <td>NaN</td>\n",
       "      <td>7</td>\n",
       "      <td>6</td>\n",
       "      <td>7</td>\n",
       "      <td>7</td>\n",
       "      <td>2</td>\n",
       "      <td>26</td>\n",
       "      <td>NaN</td>\n",
       "    </tr>\n",
       "    <tr>\n",
       "      <th>204</th>\n",
       "      <td>1.0</td>\n",
       "      <td>1</td>\n",
       "      <td>6.284</td>\n",
       "      <td>54.200</td>\n",
       "      <td>1</td>\n",
       "      <td>15.101</td>\n",
       "      <td>-1</td>\n",
       "      <td>57.972</td>\n",
       "      <td>NaN</td>\n",
       "      <td>NaN</td>\n",
       "      <td>...</td>\n",
       "      <td>64.061</td>\n",
       "      <td>1.0</td>\n",
       "      <td>NaN</td>\n",
       "      <td>5</td>\n",
       "      <td>5</td>\n",
       "      <td>4</td>\n",
       "      <td>7</td>\n",
       "      <td>2</td>\n",
       "      <td>30</td>\n",
       "      <td>NaN</td>\n",
       "    </tr>\n",
       "    <tr>\n",
       "      <th>205</th>\n",
       "      <td>1.0</td>\n",
       "      <td>1</td>\n",
       "      <td>23.694</td>\n",
       "      <td>29.282</td>\n",
       "      <td>1</td>\n",
       "      <td>20.440</td>\n",
       "      <td>1</td>\n",
       "      <td>55.056</td>\n",
       "      <td>1.0</td>\n",
       "      <td>Cute</td>\n",
       "      <td>...</td>\n",
       "      <td>66.052</td>\n",
       "      <td>1.0</td>\n",
       "      <td>Entertaining !</td>\n",
       "      <td>6</td>\n",
       "      <td>7</td>\n",
       "      <td>5</td>\n",
       "      <td>7</td>\n",
       "      <td>1</td>\n",
       "      <td>26</td>\n",
       "      <td>NaN</td>\n",
       "    </tr>\n",
       "    <tr>\n",
       "      <th>206</th>\n",
       "      <td>1.0</td>\n",
       "      <td>1</td>\n",
       "      <td>18.482</td>\n",
       "      <td>25.360</td>\n",
       "      <td>1</td>\n",
       "      <td>12.473</td>\n",
       "      <td>-1</td>\n",
       "      <td>49.501</td>\n",
       "      <td>NaN</td>\n",
       "      <td>NaN</td>\n",
       "      <td>...</td>\n",
       "      <td>81.701</td>\n",
       "      <td>NaN</td>\n",
       "      <td>I like the song</td>\n",
       "      <td>5</td>\n",
       "      <td>5</td>\n",
       "      <td>4</td>\n",
       "      <td>7</td>\n",
       "      <td>2</td>\n",
       "      <td>46</td>\n",
       "      <td>NaN</td>\n",
       "    </tr>\n",
       "    <tr>\n",
       "      <th>207</th>\n",
       "      <td>1.0</td>\n",
       "      <td>1</td>\n",
       "      <td>29.698</td>\n",
       "      <td>6.766</td>\n",
       "      <td>1</td>\n",
       "      <td>63.701</td>\n",
       "      <td>1</td>\n",
       "      <td>21.773</td>\n",
       "      <td>NaN</td>\n",
       "      <td>NaN</td>\n",
       "      <td>...</td>\n",
       "      <td>122.997</td>\n",
       "      <td>NaN</td>\n",
       "      <td>NaN</td>\n",
       "      <td>4</td>\n",
       "      <td>1</td>\n",
       "      <td>1</td>\n",
       "      <td>7</td>\n",
       "      <td>1</td>\n",
       "      <td>27</td>\n",
       "      <td>NaN</td>\n",
       "    </tr>\n",
       "  </tbody>\n",
       "</table>\n",
       "<p>205 rows × 45 columns</p>\n",
       "</div>"
      ],
      "text/plain": [
       "     Q_RecaptchaScore  bot      t1      t2  consent      t3  group1      t4  \\\n",
       "3                 1.0    1   5.202   5.711        1  12.230      -1  21.076   \n",
       "4                 1.0    1   6.694  14.945        1  11.567      -1  27.653   \n",
       "5                 1.0    1   7.826  30.177        1  13.003      -1  23.895   \n",
       "6                 1.0    1  68.348  35.267        1  11.120      -1  30.998   \n",
       "7                 1.0    1   5.908   6.079        1  11.233      -1  28.372   \n",
       "..                ...  ...     ...     ...      ...     ...     ...     ...   \n",
       "203               1.0    1  12.948   6.535        1  68.655      -1  57.812   \n",
       "204               1.0    1   6.284  54.200        1  15.101      -1  57.972   \n",
       "205               1.0    1  23.694  29.282        1  20.440       1  55.056   \n",
       "206               1.0    1  18.482  25.360        1  12.473      -1  49.501   \n",
       "207               1.0    1  29.698   6.766        1  63.701       1  21.773   \n",
       "\n",
       "     v1_like v1_comment  ...       t8  v5_like       v5_comment  v5_sy  \\\n",
       "3        NaN         eh  ...   20.591      NaN              NaN      4   \n",
       "4        NaN        NaN  ...   20.970      NaN              NaN      2   \n",
       "5        NaN        NaN  ...   21.279      NaN              NaN      4   \n",
       "6        NaN        NaN  ...   21.316      NaN              NaN      7   \n",
       "7        NaN        NaN  ...   21.401      1.0              NaN      4   \n",
       "..       ...        ...  ...      ...      ...              ...    ...   \n",
       "203      1.0        NaN  ...   63.521      1.0              NaN      7   \n",
       "204      NaN        NaN  ...   64.061      1.0              NaN      5   \n",
       "205      1.0       Cute  ...   66.052      1.0   Entertaining !      6   \n",
       "206      NaN        NaN  ...   81.701      NaN  I like the song      5   \n",
       "207      NaN        NaN  ...  122.997      NaN              NaN      4   \n",
       "\n",
       "     v5_watch  v5_pi ac  sex  age  comment  \n",
       "3           4      1  7    2   33      NaN  \n",
       "4           2      2  7    2   26      NaN  \n",
       "5           3      2  7    1   24      NaN  \n",
       "6           1      1  7    1   41      NaN  \n",
       "7           4      4  7    2   66      NaN  \n",
       "..        ...    ... ..  ...  ...      ...  \n",
       "203         6      7  7    2   26      NaN  \n",
       "204         5      4  7    2   30      NaN  \n",
       "205         7      5  7    1   26      NaN  \n",
       "206         5      4  7    2   46      NaN  \n",
       "207         1      1  7    1   27      NaN  \n",
       "\n",
       "[205 rows x 45 columns]"
      ]
     },
     "execution_count": 16,
     "metadata": {},
     "output_type": "execute_result"
    }
   ],
   "source": [
    "df"
   ]
  },
  {
   "cell_type": "code",
   "execution_count": 20,
   "metadata": {},
   "outputs": [
    {
     "data": {
      "text/plain": [
       "2    105\n",
       "1     99\n",
       "4      1\n",
       "Name: sex, dtype: int64"
      ]
     },
     "execution_count": 20,
     "metadata": {},
     "output_type": "execute_result"
    }
   ],
   "source": [
    "df['sex'].value_counts()"
   ]
  },
  {
   "cell_type": "code",
   "execution_count": 23,
   "metadata": {},
   "outputs": [
    {
     "data": {
      "text/plain": [
       "37.541463414634144"
      ]
     },
     "execution_count": 23,
     "metadata": {},
     "output_type": "execute_result"
    }
   ],
   "source": [
    "df['age'].mean()"
   ]
  },
  {
   "cell_type": "code",
   "execution_count": 22,
   "metadata": {},
   "outputs": [
    {
     "data": {
      "text/plain": [
       "0.5121951219512195"
      ]
     },
     "execution_count": 22,
     "metadata": {},
     "output_type": "execute_result"
    }
   ],
   "source": [
    "105/205"
   ]
  },
  {
   "cell_type": "code",
   "execution_count": 80,
   "metadata": {},
   "outputs": [
    {
     "data": {
      "text/plain": [
       "(0.0, 5.573231357552581)"
      ]
     },
     "execution_count": 80,
     "metadata": {},
     "output_type": "execute_result"
    }
   ],
   "source": [
    "ax.get_ylim()"
   ]
  },
  {
   "cell_type": "code",
   "execution_count": 102,
   "metadata": {},
   "outputs": [
    {
     "data": {
      "text/plain": [
       "Text(0.5, 0, 'MM Synergy')"
      ]
     },
     "execution_count": 102,
     "metadata": {},
     "output_type": "execute_result"
    },
    {
     "data": {
      "image/png": "[encoded data removed]",
      "text/plain": [
       "<Figure size 300x400 with 1 Axes>"
      ]
     },
     "metadata": {},
     "output_type": "display_data"
    }
   ],
   "source": [
    "from matplotlib import pyplot as plt\n",
    "fig, ax = plt.subplots(figsize=(3, 4))\n",
    "ax = sns.barplot(final, x=\"group\", y=\"sy\", errorbar=\"se\", color = 'group', edgecolor = '0.2', lw = 2, \n",
    "                 capsize=0.1, errwidth=2, palette=['#041E42FF', '#8D9093FF'], width=0.5)\n",
    "#ax.bar_label(ax.containers[0], fontsize=10);\n",
    "#prev_lim = ax.get_ylim()[1]\n",
    "max_val = final['sy'].max()\n",
    "plt.plot([0, 0, 1, 1], [max_val + 0.25, max_val + 0.5, max_val + 0.5, max_val + 0.25], lw=2, color='0.2', clip_on=False)\n",
    "plt.text(x = 0.5, y = max_val + 0.8, s = \"***\", ha = 'center', va = 'center', fontsize=10, color='0.2', weight='bold')\n",
    "ax.spines['top'].set_visible(False)\n",
    "ax.spines['right'].set_visible(False)\n",
    "plt.ylim(top = max_val + 0.5)\n",
    "#plt.title('Perceived Music Motion Syncronization')\n",
    "plt.ylabel('Value')\n",
    "plt.xlabel('MM Synergy')\n"
   ]
  },
  {
   "cell_type": "code",
   "execution_count": 103,
   "metadata": {},
   "outputs": [
    {
     "data": {
      "text/plain": [
       "Text(0.5, 0, 'MM Synergy')"
      ]
     },
     "execution_count": 103,
     "metadata": {},
     "output_type": "execute_result"
    },
    {
     "data": {
      "image/png": "[encoded data removed]",
      "text/plain": [
       "<Figure size 300x400 with 1 Axes>"
      ]
     },
     "metadata": {},
     "output_type": "display_data"
    }
   ],
   "source": [
    "from matplotlib import pyplot as plt\n",
    "fig, ax = plt.subplots(figsize=(3, 4))\n",
    "ax = sns.barplot(final, x=\"group\", y=\"watch\", errorbar=\"se\", color = 'group', edgecolor = '0.2', lw = 2, \n",
    "                 capsize=0.1, errwidth=2, palette=['#041E42FF', '#8D9093FF'], width=0.5)\n",
    "#ax.bar_label(ax.containers[0], fontsize=10);\n",
    "#prev_lim = ax.get_ylim()[1]\n",
    "max_val = final['watch'].max()\n",
    "plt.plot([0, 0, 1, 1], [max_val + 0.25, max_val + 0.5, max_val + 0.5, max_val + 0.25], lw=2, color='0.2', clip_on=False)\n",
    "plt.text(x = 0.5, y = max_val + 0.8, s = \"***\", ha = 'center', va = 'center', fontsize=10, color='0.2', weight='bold')\n",
    "ax.spines['top'].set_visible(False)\n",
    "ax.spines['right'].set_visible(False)\n",
    "plt.ylim(top = max_val + 0.5)\n",
    "#plt.title('Perceived Music Motion Syncronization')\n",
    "plt.ylabel('Value')\n",
    "plt.xlabel('MM Synergy')\n"
   ]
  },
  {
   "cell_type": "code",
   "execution_count": 100,
   "metadata": {},
   "outputs": [
    {
     "name": "stdout",
     "output_type": "stream",
     "text": [
      "Mann-Whitney U Statistic: 157319.5, P-value: 5.055224588646798e-07\n"
     ]
    }
   ],
   "source": [
    "from scipy.stats import mannwhitneyu\n",
    "group_a = final[final['group'] == 'High']['pi']\n",
    "group_b = final[final['group'] == 'Low']['pi']\n",
    "stat, p_value = mannwhitneyu(group_a, group_b, alternative='two-sided')\n",
    "print(f\"Mann-Whitney U Statistic: {stat}, P-value: {p_value}\")"
   ]
  },
  {
   "cell_type": "code",
   "execution_count": 105,
   "metadata": {},
   "outputs": [
    {
     "data": {
      "text/plain": [
       "Text(0.5, 0, 'MM Synergy')"
      ]
     },
     "execution_count": 105,
     "metadata": {},
     "output_type": "execute_result"
    },
    {
     "data": {
      "image/png": "[encoded data removed]",
      "text/plain": [
       "<Figure size 300x400 with 1 Axes>"
      ]
     },
     "metadata": {},
     "output_type": "display_data"
    }
   ],
   "source": [
    "from matplotlib import pyplot as plt\n",
    "fig, ax = plt.subplots(figsize=(3, 4))\n",
    "ax = sns.barplot(final, x=\"group\", y=\"pi\", errorbar=\"se\", color = 'group', edgecolor = '0.2', lw = 2, \n",
    "                 capsize=0.1, errwidth=2, palette=['#041E42FF', '#8D9093FF'], width=0.5)\n",
    "#ax.bar_label(ax.containers[0], fontsize=10);\n",
    "#prev_lim = ax.get_ylim()[1]\n",
    "max_val = final['pi'].max()\n",
    "plt.plot([0, 0, 1, 1], [max_val + 0.25, max_val + 0.5, max_val + 0.5, max_val + 0.25], lw=2, color='0.2', clip_on=False)\n",
    "plt.text(x = 0.5, y = max_val + 0.8, s = \"***\", ha = 'center', va = 'center', fontsize=10, color='0.2', weight='bold')\n",
    "ax.spines['top'].set_visible(False)\n",
    "ax.spines['right'].set_visible(False)\n",
    "plt.ylim(top = max_val + 0.5)\n",
    "#plt.title('Perceived Music Motion Syncronization')\n",
    "plt.ylabel('Value')\n",
    "plt.xlabel('MM Synergy')\n"
   ]
  },
  {
   "cell_type": "code",
   "execution_count": 20,
   "metadata": {},
   "outputs": [
    {
     "data": {
      "text/html": [
       "<div>\n",
       "<style scoped>\n",
       "    .dataframe tbody tr th:only-of-type {\n",
       "        vertical-align: middle;\n",
       "    }\n",
       "\n",
       "    .dataframe tbody tr th {\n",
       "        vertical-align: top;\n",
       "    }\n",
       "\n",
       "    .dataframe thead th {\n",
       "        text-align: right;\n",
       "    }\n",
       "</style>\n",
       "<table border=\"1\" class=\"dataframe\">\n",
       "  <thead>\n",
       "    <tr style=\"text-align: right;\">\n",
       "      <th></th>\n",
       "      <th>sy</th>\n",
       "    </tr>\n",
       "    <tr>\n",
       "      <th>group</th>\n",
       "      <th></th>\n",
       "    </tr>\n",
       "  </thead>\n",
       "  <tbody>\n",
       "    <tr>\n",
       "      <th>-1</th>\n",
       "      <td>3.709865</td>\n",
       "    </tr>\n",
       "    <tr>\n",
       "      <th>1</th>\n",
       "      <td>5.173996</td>\n",
       "    </tr>\n",
       "  </tbody>\n",
       "</table>\n",
       "</div>"
      ],
      "text/plain": [
       "             sy\n",
       "group          \n",
       "-1     3.709865\n",
       " 1     5.173996"
      ]
     },
     "execution_count": 20,
     "metadata": {},
     "output_type": "execute_result"
    }
   ],
   "source": [
    "final.groupby('group')[['sy']].mean()"
   ]
  },
  {
   "cell_type": "code",
   "execution_count": 28,
   "metadata": {},
   "outputs": [],
   "source": [
    "final = final.set_index(['pair', 'group']).stack(dropna=False).reset_index().rename(columns={'level_2': 'metric', 0: 'value'})"
   ]
  }
 ],
 "metadata": {
  "kernelspec": {
   "display_name": "pytorch_m1",
   "language": "python",
   "name": "python3"
  },
  "language_info": {
   "codemirror_mode": {
    "name": "ipython",
    "version": 3
   },
   "file_extension": ".py",
   "mimetype": "text/x-python",
   "name": "python",
   "nbconvert_exporter": "python",
   "pygments_lexer": "ipython3",
   "version": "3.8.12"
  }
 },
 "nbformat": 4,
 "nbformat_minor": 2
}
